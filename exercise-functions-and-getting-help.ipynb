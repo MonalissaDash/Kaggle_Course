{
 "cells": [
  {
   "cell_type": "markdown",
   "id": "8c5b7cea",
   "metadata": {
    "papermill": {
     "duration": 0.008717,
     "end_time": "2022-06-14T12:36:19.096009",
     "exception": false,
     "start_time": "2022-06-14T12:36:19.087292",
     "status": "completed"
    },
    "tags": []
   },
   "source": [
    "**This notebook is an exercise in the [Python](https://www.kaggle.com/learn/python) course.  You can reference the tutorial at [this link](https://www.kaggle.com/colinmorris/functions-and-getting-help).**\n",
    "\n",
    "---\n"
   ]
  },
  {
   "cell_type": "markdown",
   "id": "d997088e",
   "metadata": {
    "papermill": {
     "duration": 0.005054,
     "end_time": "2022-06-14T12:36:19.106675",
     "exception": false,
     "start_time": "2022-06-14T12:36:19.101621",
     "status": "completed"
    },
    "tags": []
   },
   "source": [
    "Functions are powerful. Try writing some yourself.\n",
    "\n",
    "As before, don't forget to run the setup code below before jumping into question 1."
   ]
  },
  {
   "cell_type": "code",
   "execution_count": 1,
   "id": "4addac96",
   "metadata": {
    "_kg_hide-input": true,
    "_kg_hide-output": true,
    "execution": {
     "iopub.execute_input": "2022-06-14T12:36:19.119979Z",
     "iopub.status.busy": "2022-06-14T12:36:19.118862Z",
     "iopub.status.idle": "2022-06-14T12:36:19.169919Z",
     "shell.execute_reply": "2022-06-14T12:36:19.168897Z"
    },
    "papermill": {
     "duration": 0.062139,
     "end_time": "2022-06-14T12:36:19.174335",
     "exception": false,
     "start_time": "2022-06-14T12:36:19.112196",
     "status": "completed"
    },
    "tags": []
   },
   "outputs": [
    {
     "name": "stdout",
     "output_type": "stream",
     "text": [
      "Setup complete.\n"
     ]
    }
   ],
   "source": [
    "# SETUP. You don't need to worry for now about what this code does or how it works.\n",
    "from learntools.core import binder; binder.bind(globals())\n",
    "from learntools.python.ex2 import *\n",
    "print('Setup complete.')"
   ]
  },
  {
   "cell_type": "markdown",
   "id": "afad3be5",
   "metadata": {
    "papermill": {
     "duration": 0.005364,
     "end_time": "2022-06-14T12:36:19.186097",
     "exception": false,
     "start_time": "2022-06-14T12:36:19.180733",
     "status": "completed"
    },
    "tags": []
   },
   "source": [
    "# 1.\n",
    "\n",
    "Complete the body of the following function according to its docstring.\n",
    "\n",
    "HINT: Python has a built-in function `round`."
   ]
  },
  {
   "cell_type": "code",
   "execution_count": 2,
   "id": "6033cc9a",
   "metadata": {
    "execution": {
     "iopub.execute_input": "2022-06-14T12:36:19.199118Z",
     "iopub.status.busy": "2022-06-14T12:36:19.198746Z",
     "iopub.status.idle": "2022-06-14T12:36:19.210616Z",
     "shell.execute_reply": "2022-06-14T12:36:19.209687Z"
    },
    "papermill": {
     "duration": 0.020558,
     "end_time": "2022-06-14T12:36:19.212470",
     "exception": false,
     "start_time": "2022-06-14T12:36:19.191912",
     "status": "completed"
    },
    "tags": []
   },
   "outputs": [
    {
     "data": {
      "application/javascript": [
       "parent.postMessage({\"jupyterEvent\": \"custom.exercise_interaction\", \"data\": {\"outcomeType\": 1, \"valueTowardsCompletion\": 0.16666666666666666, \"interactionType\": 1, \"questionType\": 2, \"questionId\": \"1_RoundFunctionProblem\", \"learnToolsVersion\": \"0.3.4\", \"failureMessage\": \"\", \"exceptionClass\": \"\", \"trace\": \"\"}}, \"*\")"
      ],
      "text/plain": [
       "<IPython.core.display.Javascript object>"
      ]
     },
     "metadata": {},
     "output_type": "display_data"
    },
    {
     "data": {
      "text/markdown": [
       "<span style=\"color:#33cc33\">Correct</span>"
      ],
      "text/plain": [
       "Correct"
      ]
     },
     "metadata": {},
     "output_type": "display_data"
    }
   ],
   "source": [
    "def round_to_two_places(num):\n",
    "    \"\"\"Return the given number rounded to two decimal places. \n",
    "    \n",
    "    >>> round_to_two_places(3.14159)\n",
    "    3.14\n",
    "    \"\"\"\n",
    "    # Replace this body with your own code.\n",
    "    # (\"pass\" is a keyword that does literally nothing. We used it as a placeholder\n",
    "    # because after we begin a code block, Python requires at least one line of code)\n",
    "    return round(num,2)\n",
    "# Check your answer\n",
    "q1.check()"
   ]
  },
  {
   "cell_type": "code",
   "execution_count": 3,
   "id": "2f853e72",
   "metadata": {
    "execution": {
     "iopub.execute_input": "2022-06-14T12:36:19.225926Z",
     "iopub.status.busy": "2022-06-14T12:36:19.225093Z",
     "iopub.status.idle": "2022-06-14T12:36:19.236681Z",
     "shell.execute_reply": "2022-06-14T12:36:19.235767Z"
    },
    "papermill": {
     "duration": 0.020515,
     "end_time": "2022-06-14T12:36:19.238799",
     "exception": false,
     "start_time": "2022-06-14T12:36:19.218284",
     "status": "completed"
    },
    "tags": []
   },
   "outputs": [
    {
     "data": {
      "application/javascript": [
       "parent.postMessage({\"jupyterEvent\": \"custom.exercise_interaction\", \"data\": {\"interactionType\": 2, \"questionType\": 2, \"questionId\": \"1_RoundFunctionProblem\", \"learnToolsVersion\": \"0.3.4\", \"valueTowardsCompletion\": 0.0, \"failureMessage\": \"\", \"exceptionClass\": \"\", \"trace\": \"\", \"outcomeType\": 4}}, \"*\")"
      ],
      "text/plain": [
       "<IPython.core.display.Javascript object>"
      ]
     },
     "metadata": {},
     "output_type": "display_data"
    },
    {
     "data": {
      "text/markdown": [
       "<span style=\"color:#3366cc\">Hint:</span> Run `help(round)` in the console (or in a code cell) to learn more about the round function. You'll need to use the function's optional second argument."
      ],
      "text/plain": [
       "Hint: Run `help(round)` in the console (or in a code cell) to learn more about the round function. You'll need to use the function's optional second argument."
      ]
     },
     "metadata": {},
     "output_type": "display_data"
    },
    {
     "data": {
      "application/javascript": [
       "parent.postMessage({\"jupyterEvent\": \"custom.exercise_interaction\", \"data\": {\"interactionType\": 3, \"questionType\": 2, \"questionId\": \"1_RoundFunctionProblem\", \"learnToolsVersion\": \"0.3.4\", \"valueTowardsCompletion\": 0.0, \"failureMessage\": \"\", \"exceptionClass\": \"\", \"trace\": \"\", \"outcomeType\": 4}}, \"*\")"
      ],
      "text/plain": [
       "<IPython.core.display.Javascript object>"
      ]
     },
     "metadata": {},
     "output_type": "display_data"
    },
    {
     "data": {
      "text/markdown": [
       "<span style=\"color:#33cc99\">Solution:</span> \n",
       "```python\n",
       "return round(num, 2)\n",
       "```"
      ],
      "text/plain": [
       "Solution: \n",
       "```python\n",
       "return round(num, 2)\n",
       "```"
      ]
     },
     "metadata": {},
     "output_type": "display_data"
    }
   ],
   "source": [
    "# Uncomment the following for a hint\n",
    "q1.hint()\n",
    "# Or uncomment the following to peek at the solution\n",
    "q1.solution()"
   ]
  },
  {
   "cell_type": "markdown",
   "id": "ffe9023b",
   "metadata": {
    "papermill": {
     "duration": 0.006128,
     "end_time": "2022-06-14T12:36:19.251664",
     "exception": false,
     "start_time": "2022-06-14T12:36:19.245536",
     "status": "completed"
    },
    "tags": []
   },
   "source": [
    "# 2.\n",
    "The help for `round` says that `ndigits` (the second argument) may be negative.\n",
    "What do you think will happen when it is? Try some examples in the following cell."
   ]
  },
  {
   "cell_type": "code",
   "execution_count": 4,
   "id": "0205a235",
   "metadata": {
    "execution": {
     "iopub.execute_input": "2022-06-14T12:36:19.267344Z",
     "iopub.status.busy": "2022-06-14T12:36:19.266301Z",
     "iopub.status.idle": "2022-06-14T12:36:19.271897Z",
     "shell.execute_reply": "2022-06-14T12:36:19.271221Z"
    },
    "papermill": {
     "duration": 0.015308,
     "end_time": "2022-06-14T12:36:19.273979",
     "exception": false,
     "start_time": "2022-06-14T12:36:19.258671",
     "status": "completed"
    },
    "tags": []
   },
   "outputs": [
    {
     "data": {
      "text/plain": [
       "338000"
      ]
     },
     "execution_count": 4,
     "metadata": {},
     "output_type": "execute_result"
    }
   ],
   "source": [
    "# Put your test code here\n",
    "round(338000,-2)"
   ]
  },
  {
   "cell_type": "markdown",
   "id": "3b6f62c7",
   "metadata": {
    "papermill": {
     "duration": 0.006144,
     "end_time": "2022-06-14T12:36:19.286618",
     "exception": false,
     "start_time": "2022-06-14T12:36:19.280474",
     "status": "completed"
    },
    "tags": []
   },
   "source": [
    "Can you think of a case where this would be useful?  Once you're ready, run the code cell below to see the answer and to receive credit for completing the problem."
   ]
  },
  {
   "cell_type": "code",
   "execution_count": 5,
   "id": "835e5f4c",
   "metadata": {
    "execution": {
     "iopub.execute_input": "2022-06-14T12:36:19.301749Z",
     "iopub.status.busy": "2022-06-14T12:36:19.301198Z",
     "iopub.status.idle": "2022-06-14T12:36:19.307913Z",
     "shell.execute_reply": "2022-06-14T12:36:19.307039Z"
    },
    "papermill": {
     "duration": 0.016552,
     "end_time": "2022-06-14T12:36:19.309878",
     "exception": false,
     "start_time": "2022-06-14T12:36:19.293326",
     "status": "completed"
    },
    "tags": []
   },
   "outputs": [
    {
     "data": {
      "application/javascript": [
       "parent.postMessage({\"jupyterEvent\": \"custom.exercise_interaction\", \"data\": {\"interactionType\": 3, \"questionType\": 4, \"questionId\": \"2_RoundNdigitsProblem\", \"learnToolsVersion\": \"0.3.4\", \"valueTowardsCompletion\": 0.0, \"failureMessage\": \"\", \"exceptionClass\": \"\", \"trace\": \"\", \"outcomeType\": 4}}, \"*\")"
      ],
      "text/plain": [
       "<IPython.core.display.Javascript object>"
      ]
     },
     "metadata": {},
     "output_type": "display_data"
    },
    {
     "data": {
      "text/markdown": [
       "<span style=\"color:#33cc99\">Solution:</span> As you've seen, `ndigits=-1` rounds to the nearest 10, `ndigits=-2` rounds to the nearest 100 and so on. Where might this be useful? Suppose we're dealing with large numbers:\n",
       "\n",
       "> The area of Finland is 338,424 km²  \n",
       "> The area of Greenland is 2,166,086 km²\n",
       "\n",
       "We probably don't care whether it's really 338,424, or 338,425, or 338,177. All those digits of accuracy are just distracting. We can chop them off by calling `round()` with `ndigits=-3`:\n",
       "\n",
       "> The area of Finland is 338,000 km²  \n",
       "> The area of Greenland is 2,166,000 km²\n",
       "\n",
       "(We'll talk about how we would get the commas later when we talk about string formatting :))\n"
      ],
      "text/plain": [
       "Solution: As you've seen, `ndigits=-1` rounds to the nearest 10, `ndigits=-2` rounds to the nearest 100 and so on. Where might this be useful? Suppose we're dealing with large numbers:\n",
       "\n",
       "> The area of Finland is 338,424 km²  \n",
       "> The area of Greenland is 2,166,086 km²\n",
       "\n",
       "We probably don't care whether it's really 338,424, or 338,425, or 338,177. All those digits of accuracy are just distracting. We can chop them off by calling `round()` with `ndigits=-3`:\n",
       "\n",
       "> The area of Finland is 338,000 km²  \n",
       "> The area of Greenland is 2,166,000 km²\n",
       "\n",
       "(We'll talk about how we would get the commas later when we talk about string formatting :))"
      ]
     },
     "metadata": {},
     "output_type": "display_data"
    }
   ],
   "source": [
    "# Check your answer (Run this code cell to receive credit!)\n",
    "q2.solution()"
   ]
  },
  {
   "cell_type": "markdown",
   "id": "898ce6cb",
   "metadata": {
    "papermill": {
     "duration": 0.006479,
     "end_time": "2022-06-14T12:36:19.323247",
     "exception": false,
     "start_time": "2022-06-14T12:36:19.316768",
     "status": "completed"
    },
    "tags": []
   },
   "source": [
    "# 3.\n",
    "\n",
    "In the previous exercise, the candy-sharing friends Alice, Bob and Carol tried to split candies evenly. For the sake of their friendship, any candies left over would be smashed. For example, if they collectively bring home 91 candies, they'll take 30 each and smash 1.\n",
    "\n",
    "Below is a simple function that will calculate the number of candies to smash for *any* number of total candies.\n",
    "\n",
    "Modify it so that it optionally takes a second argument representing the number of friends the candies are being split between. If no second argument is provided, it should assume 3 friends, as before.\n",
    "\n",
    "Update the docstring to reflect this new behaviour."
   ]
  },
  {
   "cell_type": "code",
   "execution_count": 6,
   "id": "80bea9da",
   "metadata": {
    "execution": {
     "iopub.execute_input": "2022-06-14T12:36:19.338052Z",
     "iopub.status.busy": "2022-06-14T12:36:19.337675Z",
     "iopub.status.idle": "2022-06-14T12:36:19.345979Z",
     "shell.execute_reply": "2022-06-14T12:36:19.345124Z"
    },
    "papermill": {
     "duration": 0.018273,
     "end_time": "2022-06-14T12:36:19.348158",
     "exception": false,
     "start_time": "2022-06-14T12:36:19.329885",
     "status": "completed"
    },
    "tags": []
   },
   "outputs": [
    {
     "data": {
      "application/javascript": [
       "parent.postMessage({\"jupyterEvent\": \"custom.exercise_interaction\", \"data\": {\"outcomeType\": 1, \"valueTowardsCompletion\": 0.16666666666666666, \"interactionType\": 1, \"questionType\": 2, \"questionId\": \"3_CandySmashingFunctionProblem\", \"learnToolsVersion\": \"0.3.4\", \"failureMessage\": \"\", \"exceptionClass\": \"\", \"trace\": \"\"}}, \"*\")"
      ],
      "text/plain": [
       "<IPython.core.display.Javascript object>"
      ]
     },
     "metadata": {},
     "output_type": "display_data"
    },
    {
     "data": {
      "text/markdown": [
       "<span style=\"color:#33cc33\">Correct</span>"
      ],
      "text/plain": [
       "Correct"
      ]
     },
     "metadata": {},
     "output_type": "display_data"
    }
   ],
   "source": [
    "def to_smash(total_candies,num=3):\n",
    "    \"\"\"Return the number of leftover candies that must be smashed after distributing\n",
    "    the given number of candies evenly between 3 friends.\n",
    "    \n",
    "    >>> to_smash(91)\n",
    "    1\n",
    "    \"\"\"\n",
    "    return total_candies % num\n",
    "\n",
    "# Check your answer\n",
    "q3.check()"
   ]
  },
  {
   "cell_type": "code",
   "execution_count": 7,
   "id": "f1d92942",
   "metadata": {
    "execution": {
     "iopub.execute_input": "2022-06-14T12:36:19.364552Z",
     "iopub.status.busy": "2022-06-14T12:36:19.363874Z",
     "iopub.status.idle": "2022-06-14T12:36:19.367967Z",
     "shell.execute_reply": "2022-06-14T12:36:19.367275Z"
    },
    "papermill": {
     "duration": 0.01441,
     "end_time": "2022-06-14T12:36:19.369892",
     "exception": false,
     "start_time": "2022-06-14T12:36:19.355482",
     "status": "completed"
    },
    "tags": []
   },
   "outputs": [],
   "source": [
    "#q3.hint()"
   ]
  },
  {
   "cell_type": "code",
   "execution_count": 8,
   "id": "bbe42b07",
   "metadata": {
    "execution": {
     "iopub.execute_input": "2022-06-14T12:36:19.386914Z",
     "iopub.status.busy": "2022-06-14T12:36:19.385919Z",
     "iopub.status.idle": "2022-06-14T12:36:19.389910Z",
     "shell.execute_reply": "2022-06-14T12:36:19.389251Z"
    },
    "papermill": {
     "duration": 0.014462,
     "end_time": "2022-06-14T12:36:19.391766",
     "exception": false,
     "start_time": "2022-06-14T12:36:19.377304",
     "status": "completed"
    },
    "tags": []
   },
   "outputs": [],
   "source": [
    "#q3.solution()"
   ]
  },
  {
   "cell_type": "markdown",
   "id": "d8fb8f98",
   "metadata": {
    "papermill": {
     "duration": 0.00697,
     "end_time": "2022-06-14T12:36:19.406132",
     "exception": false,
     "start_time": "2022-06-14T12:36:19.399162",
     "status": "completed"
    },
    "tags": []
   },
   "source": [
    "# 4. (Optional)\n",
    "\n",
    "It may not be fun, but reading and understanding error messages will be an important part of your Python career.\n",
    "\n",
    "Each code cell below contains some commented buggy code. For each cell...\n",
    "\n",
    "1. Read the code and predict what you think will happen when it's run.\n",
    "2. Then uncomment the code and run it to see what happens. (**Tip**: In the kernel editor, you can highlight several lines and press `ctrl`+`/` to toggle commenting.)\n",
    "3. Fix the code (so that it accomplishes its intended purpose without throwing an exception)\n",
    "\n",
    "<!-- TODO: should this be autochecked? Delta is probably pretty small. -->"
   ]
  },
  {
   "cell_type": "code",
   "execution_count": 9,
   "id": "0f92fd7e",
   "metadata": {
    "execution": {
     "iopub.execute_input": "2022-06-14T12:36:19.422318Z",
     "iopub.status.busy": "2022-06-14T12:36:19.421733Z",
     "iopub.status.idle": "2022-06-14T12:36:19.427495Z",
     "shell.execute_reply": "2022-06-14T12:36:19.426629Z"
    },
    "papermill": {
     "duration": 0.01607,
     "end_time": "2022-06-14T12:36:19.429373",
     "exception": false,
     "start_time": "2022-06-14T12:36:19.413303",
     "status": "completed"
    },
    "tags": []
   },
   "outputs": [
    {
     "data": {
      "text/plain": [
       "10.0"
      ]
     },
     "execution_count": 9,
     "metadata": {},
     "output_type": "execute_result"
    }
   ],
   "source": [
    " def ruound_to_two_places(num,ndigit) :\n",
    "        return round(num,ndigit)\n",
    "ruound_to_two_places(9.9999,2)"
   ]
  },
  {
   "cell_type": "code",
   "execution_count": 10,
   "id": "b56f092b",
   "metadata": {
    "execution": {
     "iopub.execute_input": "2022-06-14T12:36:19.446223Z",
     "iopub.status.busy": "2022-06-14T12:36:19.445607Z",
     "iopub.status.idle": "2022-06-14T12:36:19.451234Z",
     "shell.execute_reply": "2022-06-14T12:36:19.449841Z"
    },
    "papermill": {
     "duration": 0.016857,
     "end_time": "2022-06-14T12:36:19.453436",
     "exception": false,
     "start_time": "2022-06-14T12:36:19.436579",
     "status": "completed"
    },
    "tags": []
   },
   "outputs": [
    {
     "name": "stdout",
     "output_type": "stream",
     "text": [
      "5\n"
     ]
    }
   ],
   "source": [
    "x = abs(-10)\n",
    "y = abs(5)\n",
    "# # Which of the two variables above has the smallest absolute value?\n",
    "smallest_abs = min(x,y)\n",
    "print(smallest_abs)"
   ]
  },
  {
   "cell_type": "code",
   "execution_count": 11,
   "id": "22aa4f9f",
   "metadata": {
    "execution": {
     "iopub.execute_input": "2022-06-14T12:36:19.470225Z",
     "iopub.status.busy": "2022-06-14T12:36:19.469611Z",
     "iopub.status.idle": "2022-06-14T12:36:19.475586Z",
     "shell.execute_reply": "2022-06-14T12:36:19.474238Z"
    },
    "papermill": {
     "duration": 0.018395,
     "end_time": "2022-06-14T12:36:19.479391",
     "exception": false,
     "start_time": "2022-06-14T12:36:19.460996",
     "status": "completed"
    },
    "tags": []
   },
   "outputs": [
    {
     "name": "stdout",
     "output_type": "stream",
     "text": [
      "Help on built-in function abs in module builtins:\n",
      "\n",
      "abs(x, /)\n",
      "    Return the absolute value of the argument.\n",
      "\n"
     ]
    }
   ],
   "source": [
    "help(abs)"
   ]
  },
  {
   "cell_type": "code",
   "execution_count": 12,
   "id": "060dfd8e",
   "metadata": {
    "execution": {
     "iopub.execute_input": "2022-06-14T12:36:19.496667Z",
     "iopub.status.busy": "2022-06-14T12:36:19.496280Z",
     "iopub.status.idle": "2022-06-14T12:36:19.500009Z",
     "shell.execute_reply": "2022-06-14T12:36:19.499126Z"
    },
    "papermill": {
     "duration": 0.014301,
     "end_time": "2022-06-14T12:36:19.501892",
     "exception": false,
     "start_time": "2022-06-14T12:36:19.487591",
     "status": "completed"
    },
    "tags": []
   },
   "outputs": [],
   "source": [
    "# def f(x):\n",
    "#     y = abs(x)\n",
    "# return y\n",
    "\n",
    "# print(f(5))"
   ]
  },
  {
   "cell_type": "markdown",
   "id": "4f05408a",
   "metadata": {
    "papermill": {
     "duration": 0.007623,
     "end_time": "2022-06-14T12:36:19.517013",
     "exception": false,
     "start_time": "2022-06-14T12:36:19.509390",
     "status": "completed"
    },
    "tags": []
   },
   "source": [
    "# Keep Going\n",
    "\n",
    "Nice job with the code. Next up, you'll learn about *conditionals*, which you'll need to **[write interesting programs](https://www.kaggle.com/colinmorris/booleans-and-conditionals)**. "
   ]
  },
  {
   "cell_type": "markdown",
   "id": "bee8b485",
   "metadata": {
    "papermill": {
     "duration": 0.007656,
     "end_time": "2022-06-14T12:36:19.532570",
     "exception": false,
     "start_time": "2022-06-14T12:36:19.524914",
     "status": "completed"
    },
    "tags": []
   },
   "source": [
    "---\n",
    "\n",
    "\n",
    "\n",
    "\n",
    "*Have questions or comments? Visit the [course discussion forum](https://www.kaggle.com/learn/python/discussion) to chat with other learners.*"
   ]
  }
 ],
 "metadata": {
  "kernelspec": {
   "display_name": "Python 3",
   "language": "python",
   "name": "python3"
  },
  "language_info": {
   "codemirror_mode": {
    "name": "ipython",
    "version": 3
   },
   "file_extension": ".py",
   "mimetype": "text/x-python",
   "name": "python",
   "nbconvert_exporter": "python",
   "pygments_lexer": "ipython3",
   "version": "3.7.12"
  },
  "papermill": {
   "default_parameters": {},
   "duration": 10.816842,
   "end_time": "2022-06-14T12:36:20.161866",
   "environment_variables": {},
   "exception": null,
   "input_path": "__notebook__.ipynb",
   "output_path": "__notebook__.ipynb",
   "parameters": {},
   "start_time": "2022-06-14T12:36:09.345024",
   "version": "2.3.4"
  }
 },
 "nbformat": 4,
 "nbformat_minor": 5
}
