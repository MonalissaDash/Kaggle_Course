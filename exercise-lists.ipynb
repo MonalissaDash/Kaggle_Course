{
 "cells": [
  {
   "cell_type": "markdown",
   "id": "236ab622",
   "metadata": {
    "papermill": {
     "duration": 0.008035,
     "end_time": "2022-06-14T12:38:53.135779",
     "exception": false,
     "start_time": "2022-06-14T12:38:53.127744",
     "status": "completed"
    },
    "tags": []
   },
   "source": [
    "**This notebook is an exercise in the [Python](https://www.kaggle.com/learn/python) course.  You can reference the tutorial at [this link](https://www.kaggle.com/colinmorris/lists).**\n",
    "\n",
    "---\n"
   ]
  },
  {
   "cell_type": "markdown",
   "id": "01fbe5e9",
   "metadata": {
    "papermill": {
     "duration": 0.003683,
     "end_time": "2022-06-14T12:38:53.143748",
     "exception": false,
     "start_time": "2022-06-14T12:38:53.140065",
     "status": "completed"
    },
    "tags": []
   },
   "source": [
    "Things get more interesting with lists. You'll apply your new knowledge to solve the questions below. Remember to run the following cell first."
   ]
  },
  {
   "cell_type": "code",
   "execution_count": 1,
   "id": "ce639c40",
   "metadata": {
    "execution": {
     "iopub.execute_input": "2022-06-14T12:38:53.154032Z",
     "iopub.status.busy": "2022-06-14T12:38:53.153534Z",
     "iopub.status.idle": "2022-06-14T12:38:53.195895Z",
     "shell.execute_reply": "2022-06-14T12:38:53.194920Z"
    },
    "papermill": {
     "duration": 0.050834,
     "end_time": "2022-06-14T12:38:53.198959",
     "exception": false,
     "start_time": "2022-06-14T12:38:53.148125",
     "status": "completed"
    },
    "tags": []
   },
   "outputs": [
    {
     "name": "stdout",
     "output_type": "stream",
     "text": [
      "Setup complete.\n"
     ]
    }
   ],
   "source": [
    "from learntools.core import binder; binder.bind(globals())\n",
    "from learntools.python.ex4 import *\n",
    "print('Setup complete.')"
   ]
  },
  {
   "cell_type": "markdown",
   "id": "8c614a85",
   "metadata": {
    "papermill": {
     "duration": 0.0039,
     "end_time": "2022-06-14T12:38:53.208263",
     "exception": false,
     "start_time": "2022-06-14T12:38:53.204363",
     "status": "completed"
    },
    "tags": []
   },
   "source": [
    "# 1.\n",
    "\n",
    "Complete the function below according to its docstring."
   ]
  },
  {
   "cell_type": "code",
   "execution_count": 2,
   "id": "1510f9ba",
   "metadata": {
    "execution": {
     "iopub.execute_input": "2022-06-14T12:38:53.218177Z",
     "iopub.status.busy": "2022-06-14T12:38:53.217394Z",
     "iopub.status.idle": "2022-06-14T12:38:53.227312Z",
     "shell.execute_reply": "2022-06-14T12:38:53.226502Z"
    },
    "papermill": {
     "duration": 0.016767,
     "end_time": "2022-06-14T12:38:53.229064",
     "exception": false,
     "start_time": "2022-06-14T12:38:53.212297",
     "status": "completed"
    },
    "tags": []
   },
   "outputs": [
    {
     "data": {
      "application/javascript": [
       "parent.postMessage({\"jupyterEvent\": \"custom.exercise_interaction\", \"data\": {\"outcomeType\": 1, \"valueTowardsCompletion\": 0.2, \"interactionType\": 1, \"questionType\": 2, \"questionId\": \"1_SelectSecondItem\", \"learnToolsVersion\": \"0.3.4\", \"failureMessage\": \"\", \"exceptionClass\": \"\", \"trace\": \"\"}}, \"*\")"
      ],
      "text/plain": [
       "<IPython.core.display.Javascript object>"
      ]
     },
     "metadata": {},
     "output_type": "display_data"
    },
    {
     "data": {
      "text/markdown": [
       "<span style=\"color:#33cc33\">Correct</span>"
      ],
      "text/plain": [
       "Correct"
      ]
     },
     "metadata": {},
     "output_type": "display_data"
    }
   ],
   "source": [
    "def select_second(L):\n",
    "    \"\"\"Return the second element of the given list. If the list has no second\n",
    "    element, return None.\n",
    "    \"\"\"\n",
    "    if len(L)<2:\n",
    "        return None\n",
    "    else:\n",
    "        return L[1]\n",
    "\n",
    "# Check your answer\n",
    "q1.check()"
   ]
  },
  {
   "cell_type": "code",
   "execution_count": 3,
   "id": "1c9e9e44",
   "metadata": {
    "execution": {
     "iopub.execute_input": "2022-06-14T12:38:53.239982Z",
     "iopub.status.busy": "2022-06-14T12:38:53.239330Z",
     "iopub.status.idle": "2022-06-14T12:38:53.245754Z",
     "shell.execute_reply": "2022-06-14T12:38:53.244738Z"
    },
    "papermill": {
     "duration": 0.014056,
     "end_time": "2022-06-14T12:38:53.247606",
     "exception": false,
     "start_time": "2022-06-14T12:38:53.233550",
     "status": "completed"
    },
    "tags": []
   },
   "outputs": [
    {
     "data": {
      "application/javascript": [
       "parent.postMessage({\"jupyterEvent\": \"custom.exercise_interaction\", \"data\": {\"interactionType\": 3, \"questionType\": 2, \"questionId\": \"1_SelectSecondItem\", \"learnToolsVersion\": \"0.3.4\", \"valueTowardsCompletion\": 0.0, \"failureMessage\": \"\", \"exceptionClass\": \"\", \"trace\": \"\", \"outcomeType\": 4}}, \"*\")"
      ],
      "text/plain": [
       "<IPython.core.display.Javascript object>"
      ]
     },
     "metadata": {},
     "output_type": "display_data"
    },
    {
     "data": {
      "text/markdown": [
       "<span style=\"color:#33cc99\">Solution:</span> \n",
       "```python\n",
       "def select_second(L):\n",
       "    if len(L) < 2:\n",
       "        return None\n",
       "    return L[1]\n",
       "```"
      ],
      "text/plain": [
       "Solution: \n",
       "```python\n",
       "def select_second(L):\n",
       "    if len(L) < 2:\n",
       "        return None\n",
       "    return L[1]\n",
       "```"
      ]
     },
     "metadata": {},
     "output_type": "display_data"
    }
   ],
   "source": [
    "#q1.hint()\n",
    "q1.solution()"
   ]
  },
  {
   "cell_type": "markdown",
   "id": "6ac5c631",
   "metadata": {
    "papermill": {
     "duration": 0.00451,
     "end_time": "2022-06-14T12:38:53.257213",
     "exception": false,
     "start_time": "2022-06-14T12:38:53.252703",
     "status": "completed"
    },
    "tags": []
   },
   "source": [
    "# 2.\n",
    "\n",
    "You are analyzing sports teams.  Members of each team are stored in a list. The Coach is the first name in the list, the captain is the second name in the list, and other players are listed after that. \n",
    "These lists are stored in another list, which starts with the best team and proceeds through the list to the worst team last.  Complete the function below to select the **captain** of the worst team."
   ]
  },
  {
   "cell_type": "code",
   "execution_count": 4,
   "id": "d48af23f",
   "metadata": {
    "execution": {
     "iopub.execute_input": "2022-06-14T12:38:53.268662Z",
     "iopub.status.busy": "2022-06-14T12:38:53.268066Z",
     "iopub.status.idle": "2022-06-14T12:38:53.275705Z",
     "shell.execute_reply": "2022-06-14T12:38:53.274741Z"
    },
    "papermill": {
     "duration": 0.01574,
     "end_time": "2022-06-14T12:38:53.277634",
     "exception": false,
     "start_time": "2022-06-14T12:38:53.261894",
     "status": "completed"
    },
    "tags": []
   },
   "outputs": [
    {
     "data": {
      "application/javascript": [
       "parent.postMessage({\"jupyterEvent\": \"custom.exercise_interaction\", \"data\": {\"outcomeType\": 1, \"valueTowardsCompletion\": 0.2, \"interactionType\": 1, \"questionType\": 2, \"questionId\": \"2_LosingTeamCaptain\", \"learnToolsVersion\": \"0.3.4\", \"failureMessage\": \"\", \"exceptionClass\": \"\", \"trace\": \"\"}}, \"*\")"
      ],
      "text/plain": [
       "<IPython.core.display.Javascript object>"
      ]
     },
     "metadata": {},
     "output_type": "display_data"
    },
    {
     "data": {
      "text/markdown": [
       "<span style=\"color:#33cc33\">Correct</span>"
      ],
      "text/plain": [
       "Correct"
      ]
     },
     "metadata": {},
     "output_type": "display_data"
    }
   ],
   "source": [
    "def losing_team_captain(teams):\n",
    "    \"\"\"Given a list of teams, where each team is a list of names, return the 2nd player (captain)\n",
    "    from the last listed team\n",
    "    \"\"\"\n",
    "    return teams[-1][1]\n",
    "\n",
    "# Check your answer\n",
    "q2.check()"
   ]
  },
  {
   "cell_type": "code",
   "execution_count": 5,
   "id": "b5d35162",
   "metadata": {
    "collapsed": true,
    "execution": {
     "iopub.execute_input": "2022-06-14T12:38:53.289411Z",
     "iopub.status.busy": "2022-06-14T12:38:53.288540Z",
     "iopub.status.idle": "2022-06-14T12:38:53.292401Z",
     "shell.execute_reply": "2022-06-14T12:38:53.291641Z"
    },
    "jupyter": {
     "outputs_hidden": true
    },
    "papermill": {
     "duration": 0.011616,
     "end_time": "2022-06-14T12:38:53.294144",
     "exception": false,
     "start_time": "2022-06-14T12:38:53.282528",
     "status": "completed"
    },
    "tags": []
   },
   "outputs": [],
   "source": [
    "#q2.hint()\n",
    "#q2.solution()"
   ]
  },
  {
   "cell_type": "markdown",
   "id": "07845dab",
   "metadata": {
    "papermill": {
     "duration": 0.004608,
     "end_time": "2022-06-14T12:38:53.303697",
     "exception": false,
     "start_time": "2022-06-14T12:38:53.299089",
     "status": "completed"
    },
    "tags": []
   },
   "source": [
    "# 3.\n",
    "\n",
    "The next iteration of Mario Kart will feature an extra-infuriating new item, the *Purple Shell*. When used, it warps the last place racer into first place and the first place racer into last place. Complete the function below to implement the Purple Shell's effect."
   ]
  },
  {
   "cell_type": "code",
   "execution_count": 6,
   "id": "e2edeeb2",
   "metadata": {
    "execution": {
     "iopub.execute_input": "2022-06-14T12:38:53.315531Z",
     "iopub.status.busy": "2022-06-14T12:38:53.314877Z",
     "iopub.status.idle": "2022-06-14T12:38:53.322359Z",
     "shell.execute_reply": "2022-06-14T12:38:53.321439Z"
    },
    "papermill": {
     "duration": 0.015752,
     "end_time": "2022-06-14T12:38:53.324335",
     "exception": false,
     "start_time": "2022-06-14T12:38:53.308583",
     "status": "completed"
    },
    "tags": []
   },
   "outputs": [
    {
     "data": {
      "application/javascript": [
       "parent.postMessage({\"jupyterEvent\": \"custom.exercise_interaction\", \"data\": {\"outcomeType\": 1, \"valueTowardsCompletion\": 0.2, \"interactionType\": 1, \"questionType\": 2, \"questionId\": \"3_PurpleShell\", \"learnToolsVersion\": \"0.3.4\", \"failureMessage\": \"\", \"exceptionClass\": \"\", \"trace\": \"\"}}, \"*\")"
      ],
      "text/plain": [
       "<IPython.core.display.Javascript object>"
      ]
     },
     "metadata": {},
     "output_type": "display_data"
    },
    {
     "data": {
      "text/markdown": [
       "<span style=\"color:#33cc33\">Correct</span>"
      ],
      "text/plain": [
       "Correct"
      ]
     },
     "metadata": {},
     "output_type": "display_data"
    }
   ],
   "source": [
    "def purple_shell(racers):\n",
    "    \"\"\"Given a list of racers, set the first place racer (at the front of the list) to last\n",
    "    place and vice versa.\n",
    "    \n",
    "    >>> r = [\"Mario\", \"Bowser\", \"Luigi\"]\n",
    "    >>> purple_shell(r)\n",
    "    >>> r\n",
    "    [\"Luigi\", \"Bowser\", \"Mario\"]\n",
    "    \"\"\"\n",
    "    racers[0],racers[-1]=racers[-1],racers[0]\n",
    "    #return racers\n",
    "\n",
    "# Check your answer\n",
    "q3.check()"
   ]
  },
  {
   "cell_type": "code",
   "execution_count": 7,
   "id": "75d6f0cd",
   "metadata": {
    "execution": {
     "iopub.execute_input": "2022-06-14T12:38:53.336174Z",
     "iopub.status.busy": "2022-06-14T12:38:53.335766Z",
     "iopub.status.idle": "2022-06-14T12:38:53.342589Z",
     "shell.execute_reply": "2022-06-14T12:38:53.341690Z"
    },
    "papermill": {
     "duration": 0.015071,
     "end_time": "2022-06-14T12:38:53.344413",
     "exception": false,
     "start_time": "2022-06-14T12:38:53.329342",
     "status": "completed"
    },
    "tags": []
   },
   "outputs": [
    {
     "data": {
      "application/javascript": [
       "parent.postMessage({\"jupyterEvent\": \"custom.exercise_interaction\", \"data\": {\"interactionType\": 3, \"questionType\": 2, \"questionId\": \"3_PurpleShell\", \"learnToolsVersion\": \"0.3.4\", \"valueTowardsCompletion\": 0.0, \"failureMessage\": \"\", \"exceptionClass\": \"\", \"trace\": \"\", \"outcomeType\": 4}}, \"*\")"
      ],
      "text/plain": [
       "<IPython.core.display.Javascript object>"
      ]
     },
     "metadata": {},
     "output_type": "display_data"
    },
    {
     "data": {
      "text/markdown": [
       "<span style=\"color:#33cc99\">Solution:</span> \n",
       "```python\n",
       "def purple_shell(racers):\n",
       "    # One slick way to do the swap is x[0], x[-1] = x[-1], x[0].\n",
       "    temp = racers[0]\n",
       "    racers[0] = racers[-1]\n",
       "    racers[-1] = temp\n",
       "```"
      ],
      "text/plain": [
       "Solution: \n",
       "```python\n",
       "def purple_shell(racers):\n",
       "    # One slick way to do the swap is x[0], x[-1] = x[-1], x[0].\n",
       "    temp = racers[0]\n",
       "    racers[0] = racers[-1]\n",
       "    racers[-1] = temp\n",
       "```"
      ]
     },
     "metadata": {},
     "output_type": "display_data"
    }
   ],
   "source": [
    "#q3.hint()\n",
    "q3.solution()"
   ]
  },
  {
   "cell_type": "markdown",
   "id": "33b738a3",
   "metadata": {
    "papermill": {
     "duration": 0.004868,
     "end_time": "2022-06-14T12:38:53.354515",
     "exception": false,
     "start_time": "2022-06-14T12:38:53.349647",
     "status": "completed"
    },
    "tags": []
   },
   "source": [
    "# 4.\n",
    "\n",
    "What are the lengths of the following lists? Fill in the variable `lengths` with your predictions. (Try to make a prediction for each list *without* just calling `len()` on it.)"
   ]
  },
  {
   "cell_type": "code",
   "execution_count": 8,
   "id": "cea73e26",
   "metadata": {
    "execution": {
     "iopub.execute_input": "2022-06-14T12:38:53.366521Z",
     "iopub.status.busy": "2022-06-14T12:38:53.366102Z",
     "iopub.status.idle": "2022-06-14T12:38:53.374598Z",
     "shell.execute_reply": "2022-06-14T12:38:53.373808Z"
    },
    "papermill": {
     "duration": 0.01667,
     "end_time": "2022-06-14T12:38:53.376337",
     "exception": false,
     "start_time": "2022-06-14T12:38:53.359667",
     "status": "completed"
    },
    "tags": []
   },
   "outputs": [
    {
     "data": {
      "application/javascript": [
       "parent.postMessage({\"jupyterEvent\": \"custom.exercise_interaction\", \"data\": {\"outcomeType\": 1, \"valueTowardsCompletion\": 0.2, \"interactionType\": 1, \"questionType\": 1, \"questionId\": \"4_UnderstandLen\", \"learnToolsVersion\": \"0.3.4\", \"failureMessage\": \"\", \"exceptionClass\": \"\", \"trace\": \"\"}}, \"*\")"
      ],
      "text/plain": [
       "<IPython.core.display.Javascript object>"
      ]
     },
     "metadata": {},
     "output_type": "display_data"
    },
    {
     "data": {
      "text/markdown": [
       "<span style=\"color:#33cc33\">Correct:</span> \n",
       "\n",
       "\n",
       "- a: There are three items in this list. Nothing tricky yet.\n",
       "- b: The list `[2, 3]` counts as a single item. It has one item before it. So we have 2 items in the list\n",
       "- c: The empty list has 0 items\n",
       "- d: The expression is the same as the list `[2, 3]`, which has length 2."
      ],
      "text/plain": [
       "Correct: \n",
       "\n",
       "\n",
       "- a: There are three items in this list. Nothing tricky yet.\n",
       "- b: The list `[2, 3]` counts as a single item. It has one item before it. So we have 2 items in the list\n",
       "- c: The empty list has 0 items\n",
       "- d: The expression is the same as the list `[2, 3]`, which has length 2."
      ]
     },
     "metadata": {},
     "output_type": "display_data"
    }
   ],
   "source": [
    "a = [1, 2, 3]\n",
    "b = [1, [2, 3]]\n",
    "c = []\n",
    "d = [1, 2, 3][1:]\n",
    "\n",
    "# Put your predictions in the list below. Lengths should contain 4 numbers, the\n",
    "# first being the length of a, the second being the length of b and so on.\n",
    "lengths = [3,2,0,2]\n",
    "\n",
    "# Check your answer\n",
    "q4.check()"
   ]
  },
  {
   "cell_type": "code",
   "execution_count": 9,
   "id": "78854db0",
   "metadata": {
    "collapsed": true,
    "execution": {
     "iopub.execute_input": "2022-06-14T12:38:53.389106Z",
     "iopub.status.busy": "2022-06-14T12:38:53.388538Z",
     "iopub.status.idle": "2022-06-14T12:38:53.392946Z",
     "shell.execute_reply": "2022-06-14T12:38:53.391835Z"
    },
    "jupyter": {
     "outputs_hidden": true
    },
    "papermill": {
     "duration": 0.012838,
     "end_time": "2022-06-14T12:38:53.394778",
     "exception": false,
     "start_time": "2022-06-14T12:38:53.381940",
     "status": "completed"
    },
    "tags": []
   },
   "outputs": [],
   "source": [
    "# line below provides some explanation\n",
    "#q4.solution()"
   ]
  },
  {
   "cell_type": "markdown",
   "id": "ca5f5692",
   "metadata": {
    "papermill": {
     "duration": 0.004976,
     "end_time": "2022-06-14T12:38:53.405207",
     "exception": false,
     "start_time": "2022-06-14T12:38:53.400231",
     "status": "completed"
    },
    "tags": []
   },
   "source": [
    "# 5. <span title=\"A bit spicy\" style=\"color: darkgreen \">🌶️</span>\n",
    "\n",
    "We're using lists to record people who attended our party and what order they arrived in. For example, the following list represents a party with 7 guests, in which Adela showed up first and Ford was the last to arrive:\n",
    "\n",
    "    party_attendees = ['Adela', 'Fleda', 'Owen', 'May', 'Mona', 'Gilbert', 'Ford']\n",
    "\n",
    "A guest is considered 'fashionably late' if they arrived after at least half of the party's guests. However, they must not be the very last guest (that's taking it too far). In the above example, Mona and Gilbert are the only guests who were fashionably late.\n",
    "\n",
    "Complete the function below which takes a list of party attendees as well as a person, and tells us whether that person is fashionably late."
   ]
  },
  {
   "cell_type": "code",
   "execution_count": 10,
   "id": "4d6536ca",
   "metadata": {
    "execution": {
     "iopub.execute_input": "2022-06-14T12:38:53.418612Z",
     "iopub.status.busy": "2022-06-14T12:38:53.417920Z",
     "iopub.status.idle": "2022-06-14T12:38:53.427572Z",
     "shell.execute_reply": "2022-06-14T12:38:53.426453Z"
    },
    "papermill": {
     "duration": 0.018451,
     "end_time": "2022-06-14T12:38:53.429521",
     "exception": false,
     "start_time": "2022-06-14T12:38:53.411070",
     "status": "completed"
    },
    "tags": []
   },
   "outputs": [
    {
     "data": {
      "application/javascript": [
       "parent.postMessage({\"jupyterEvent\": \"custom.exercise_interaction\", \"data\": {\"outcomeType\": 1, \"valueTowardsCompletion\": 0.2, \"interactionType\": 1, \"questionType\": 2, \"questionId\": \"5_FashionablyLate\", \"learnToolsVersion\": \"0.3.4\", \"failureMessage\": \"\", \"exceptionClass\": \"\", \"trace\": \"\"}}, \"*\")"
      ],
      "text/plain": [
       "<IPython.core.display.Javascript object>"
      ]
     },
     "metadata": {},
     "output_type": "display_data"
    },
    {
     "data": {
      "text/markdown": [
       "<span style=\"color:#33cc33\">Correct</span>"
      ],
      "text/plain": [
       "Correct"
      ]
     },
     "metadata": {},
     "output_type": "display_data"
    }
   ],
   "source": [
    "def fashionably_late(arrivals, name):\n",
    "    \"\"\"Given an ordered list of arrivals to the party and a name, return whether the guest with that\n",
    "    name was fashionably late.\n",
    "    \"\"\"\n",
    "    l=round(len(arrivals)/2)\n",
    "    #print(l)\n",
    "    #print(arrivals[l:-1])\n",
    "    if name in arrivals[l:-1]:\n",
    "        return True\n",
    "    else :\n",
    "        return False\n",
    "# Check your answer\n",
    "q5.check()"
   ]
  },
  {
   "cell_type": "code",
   "execution_count": 11,
   "id": "416f0310",
   "metadata": {
    "collapsed": true,
    "execution": {
     "iopub.execute_input": "2022-06-14T12:38:53.442677Z",
     "iopub.status.busy": "2022-06-14T12:38:53.441853Z",
     "iopub.status.idle": "2022-06-14T12:38:53.446253Z",
     "shell.execute_reply": "2022-06-14T12:38:53.445342Z"
    },
    "jupyter": {
     "outputs_hidden": true
    },
    "papermill": {
     "duration": 0.012959,
     "end_time": "2022-06-14T12:38:53.448197",
     "exception": false,
     "start_time": "2022-06-14T12:38:53.435238",
     "status": "completed"
    },
    "tags": []
   },
   "outputs": [],
   "source": [
    "#q5.hint()\n",
    "#q5.solution()"
   ]
  },
  {
   "cell_type": "markdown",
   "id": "b0bbd42c",
   "metadata": {
    "papermill": {
     "duration": 0.005291,
     "end_time": "2022-06-14T12:38:53.459008",
     "exception": false,
     "start_time": "2022-06-14T12:38:53.453717",
     "status": "completed"
    },
    "tags": []
   },
   "source": [
    "# Keep Going\n",
    "\n",
    "That's it for lists and tuples! Now you have the baseline knowledge to **[learn about loops](https://www.kaggle.com/colinmorris/loops-and-list-comprehensions)**, which is where lists and tuples get really interesting. "
   ]
  },
  {
   "cell_type": "markdown",
   "id": "c1159fcd",
   "metadata": {
    "papermill": {
     "duration": 0.005247,
     "end_time": "2022-06-14T12:38:53.469893",
     "exception": false,
     "start_time": "2022-06-14T12:38:53.464646",
     "status": "completed"
    },
    "tags": []
   },
   "source": [
    "---\n",
    "\n",
    "\n",
    "\n",
    "\n",
    "*Have questions or comments? Visit the [course discussion forum](https://www.kaggle.com/learn/python/discussion) to chat with other learners.*"
   ]
  }
 ],
 "metadata": {
  "kernelspec": {
   "display_name": "Python 3",
   "language": "python",
   "name": "python3"
  },
  "language_info": {
   "codemirror_mode": {
    "name": "ipython",
    "version": 3
   },
   "file_extension": ".py",
   "mimetype": "text/x-python",
   "name": "python",
   "nbconvert_exporter": "python",
   "pygments_lexer": "ipython3",
   "version": "3.7.12"
  },
  "papermill": {
   "default_parameters": {},
   "duration": 9.623723,
   "end_time": "2022-06-14T12:38:54.196202",
   "environment_variables": {},
   "exception": null,
   "input_path": "__notebook__.ipynb",
   "output_path": "__notebook__.ipynb",
   "parameters": {},
   "start_time": "2022-06-14T12:38:44.572479",
   "version": "2.3.4"
  }
 },
 "nbformat": 4,
 "nbformat_minor": 5
}
