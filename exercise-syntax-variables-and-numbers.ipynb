{
 "cells": [
  {
   "cell_type": "markdown",
   "id": "26a1c860",
   "metadata": {
    "papermill": {
     "duration": 0.011703,
     "end_time": "2022-06-14T12:35:00.805057",
     "exception": false,
     "start_time": "2022-06-14T12:35:00.793354",
     "status": "completed"
    },
    "tags": []
   },
   "source": [
    "**This notebook is an exercise in the [Python](https://www.kaggle.com/learn/python) course.  You can reference the tutorial at [this link](https://www.kaggle.com/colinmorris/hello-python).**\n",
    "\n",
    "---\n"
   ]
  },
  {
   "cell_type": "markdown",
   "id": "d336e17e",
   "metadata": {
    "papermill": {
     "duration": 0.007885,
     "end_time": "2022-06-14T12:35:00.821402",
     "exception": false,
     "start_time": "2022-06-14T12:35:00.813517",
     "status": "completed"
    },
    "tags": []
   },
   "source": [
    "Welcome to your first set of Python coding problems.  If this is your first time using Kaggle Notebooks, welcome! \n",
    "\n",
    "Notebooks are composed of blocks (called \"cells\") of text and code. Each of these is editable, though you'll mainly be editing the code cells to answer some questions.\n",
    "\n",
    "To get started, try running the code cell below (by pressing the ► button, or clicking on the cell and pressing ctrl+enter on your keyboard)."
   ]
  },
  {
   "cell_type": "code",
   "execution_count": 1,
   "id": "69ce6926",
   "metadata": {
    "execution": {
     "iopub.execute_input": "2022-06-14T12:35:00.840782Z",
     "iopub.status.busy": "2022-06-14T12:35:00.840067Z",
     "iopub.status.idle": "2022-06-14T12:35:00.854740Z",
     "shell.execute_reply": "2022-06-14T12:35:00.853968Z"
    },
    "papermill": {
     "duration": 0.027524,
     "end_time": "2022-06-14T12:35:00.857131",
     "exception": false,
     "start_time": "2022-06-14T12:35:00.829607",
     "status": "completed"
    },
    "tags": []
   },
   "outputs": [
    {
     "name": "stdout",
     "output_type": "stream",
     "text": [
      "You've successfully run some Python code\n",
      "Congratulations!\n"
     ]
    }
   ],
   "source": [
    "print(\"You've successfully run some Python code\")\n",
    "print(\"Congratulations!\")"
   ]
  },
  {
   "cell_type": "code",
   "execution_count": null,
   "id": "b48d1bca",
   "metadata": {
    "papermill": {
     "duration": 0.008086,
     "end_time": "2022-06-14T12:35:00.873552",
     "exception": false,
     "start_time": "2022-06-14T12:35:00.865466",
     "status": "completed"
    },
    "tags": []
   },
   "outputs": [],
   "source": []
  },
  {
   "cell_type": "code",
   "execution_count": null,
   "id": "42554657",
   "metadata": {
    "papermill": {
     "duration": 0.007934,
     "end_time": "2022-06-14T12:35:00.889805",
     "exception": false,
     "start_time": "2022-06-14T12:35:00.881871",
     "status": "completed"
    },
    "tags": []
   },
   "outputs": [],
   "source": []
  },
  {
   "cell_type": "code",
   "execution_count": null,
   "id": "fbe0ba2a",
   "metadata": {
    "papermill": {
     "duration": 0.007705,
     "end_time": "2022-06-14T12:35:00.905647",
     "exception": false,
     "start_time": "2022-06-14T12:35:00.897942",
     "status": "completed"
    },
    "tags": []
   },
   "outputs": [],
   "source": []
  },
  {
   "cell_type": "markdown",
   "id": "34b3dbff",
   "metadata": {
    "papermill": {
     "duration": 0.007712,
     "end_time": "2022-06-14T12:35:00.921606",
     "exception": false,
     "start_time": "2022-06-14T12:35:00.913894",
     "status": "completed"
    },
    "tags": []
   },
   "source": [
    "Try adding another line of code in the cell above and re-running it. \n",
    "\n",
    "Now let's get a little fancier:  Add a new code cell by clicking on an existing code cell, hitting the escape key, and then hitting the `a` or `b` key.  The `a` key will add a cell above the current cell, and `b` adds a cell below.\n",
    "\n",
    "Great! Now you know how to use Notebooks.\n",
    "\n",
    "Each hands-on exercise starts by setting up our feedback and code checking mechanism. Run the code cell below to do that. Then you'll be ready to move on to question 0."
   ]
  },
  {
   "cell_type": "code",
   "execution_count": 2,
   "id": "32a258d4",
   "metadata": {
    "_kg_hide-input": true,
    "_kg_hide-output": true,
    "execution": {
     "iopub.execute_input": "2022-06-14T12:35:00.940603Z",
     "iopub.status.busy": "2022-06-14T12:35:00.939279Z",
     "iopub.status.idle": "2022-06-14T12:35:00.984461Z",
     "shell.execute_reply": "2022-06-14T12:35:00.983511Z"
    },
    "papermill": {
     "duration": 0.057361,
     "end_time": "2022-06-14T12:35:00.987024",
     "exception": false,
     "start_time": "2022-06-14T12:35:00.929663",
     "status": "completed"
    },
    "tags": []
   },
   "outputs": [
    {
     "name": "stdout",
     "output_type": "stream",
     "text": [
      "Setup complete! You're ready to start question 0.\n"
     ]
    }
   ],
   "source": [
    "from learntools.core import binder; binder.bind(globals())\n",
    "from learntools.python.ex1 import *\n",
    "print(\"Setup complete! You're ready to start question 0.\")"
   ]
  },
  {
   "cell_type": "markdown",
   "id": "3f3f03cf",
   "metadata": {
    "papermill": {
     "duration": 0.008538,
     "end_time": "2022-06-14T12:35:01.003872",
     "exception": false,
     "start_time": "2022-06-14T12:35:00.995334",
     "status": "completed"
    },
    "tags": []
   },
   "source": [
    "# 0.\n",
    "\n",
    "*This is a silly question intended as an introduction to the format we use for hands-on exercises throughout all Kaggle courses.*\n",
    "\n",
    "**What is your favorite color? **\n",
    "\n",
    "To complete this question, create a variable called `color` in the cell below with an appropriate value. The function call `q0.check()` (which we've already provided in the cell below) will check your answer."
   ]
  },
  {
   "cell_type": "code",
   "execution_count": 3,
   "id": "ec1a05e5",
   "metadata": {
    "execution": {
     "iopub.execute_input": "2022-06-14T12:35:01.025691Z",
     "iopub.status.busy": "2022-06-14T12:35:01.024521Z",
     "iopub.status.idle": "2022-06-14T12:35:01.036045Z",
     "shell.execute_reply": "2022-06-14T12:35:01.035177Z"
    },
    "papermill": {
     "duration": 0.02335,
     "end_time": "2022-06-14T12:35:01.038089",
     "exception": false,
     "start_time": "2022-06-14T12:35:01.014739",
     "status": "completed"
    },
    "tags": []
   },
   "outputs": [
    {
     "data": {
      "application/javascript": [
       "parent.postMessage({\"jupyterEvent\": \"custom.exercise_interaction\", \"data\": {\"outcomeType\": 1, \"valueTowardsCompletion\": 0.25, \"interactionType\": 1, \"questionType\": 2, \"questionId\": \"0_ExerciseFormatTutorial\", \"learnToolsVersion\": \"0.3.4\", \"failureMessage\": \"\", \"exceptionClass\": \"\", \"trace\": \"\"}}, \"*\")"
      ],
      "text/plain": [
       "<IPython.core.display.Javascript object>"
      ]
     },
     "metadata": {},
     "output_type": "display_data"
    },
    {
     "data": {
      "text/markdown": [
       "<span style=\"color:#33cc33\">Correct:</span> What?! You got it right without needing a hint or anything? Drats. Well hey, you should still continue to the next step to get some practice asking for a hint and checking solutions. (Even though you obviously don't need any help here.)"
      ],
      "text/plain": [
       "Correct: What?! You got it right without needing a hint or anything? Drats. Well hey, you should still continue to the next step to get some practice asking for a hint and checking solutions. (Even though you obviously don't need any help here.)"
      ]
     },
     "metadata": {},
     "output_type": "display_data"
    }
   ],
   "source": [
    "# create a variable called color with an appropriate value on the line below\n",
    "# (Remember, strings in Python must be enclosed in 'single' or \"double\" quotes)\n",
    "\n",
    "color=\"Blue\"\n",
    "# Check your answer\n",
    "q0.check()"
   ]
  },
  {
   "cell_type": "markdown",
   "id": "fa42f02a",
   "metadata": {
    "papermill": {
     "duration": 0.008169,
     "end_time": "2022-06-14T12:35:01.054520",
     "exception": false,
     "start_time": "2022-06-14T12:35:01.046351",
     "status": "completed"
    },
    "tags": []
   },
   "source": [
    "Didn't get the right answer? How do you not even know your own favorite color?!\n",
    "\n",
    "Delete the `#` in the line below to make one of the lines run. You can choose between getting a hint or the full answer by choosing which line to remove the `#` from. \n",
    "\n",
    "Removing the `#` is called uncommenting, because it changes that line from a \"comment\" which Python doesn't run to code, which Python does run."
   ]
  },
  {
   "cell_type": "code",
   "execution_count": 4,
   "id": "769f11eb",
   "metadata": {
    "execution": {
     "iopub.execute_input": "2022-06-14T12:35:01.073196Z",
     "iopub.status.busy": "2022-06-14T12:35:01.072735Z",
     "iopub.status.idle": "2022-06-14T12:35:01.077271Z",
     "shell.execute_reply": "2022-06-14T12:35:01.075997Z"
    },
    "papermill": {
     "duration": 0.01663,
     "end_time": "2022-06-14T12:35:01.079353",
     "exception": false,
     "start_time": "2022-06-14T12:35:01.062723",
     "status": "completed"
    },
    "tags": []
   },
   "outputs": [],
   "source": [
    "#q0.hint()\n",
    "#q0.solution()"
   ]
  },
  {
   "cell_type": "markdown",
   "id": "74f67cf8",
   "metadata": {
    "papermill": {
     "duration": 0.008769,
     "end_time": "2022-06-14T12:35:01.097173",
     "exception": false,
     "start_time": "2022-06-14T12:35:01.088404",
     "status": "completed"
    },
    "tags": []
   },
   "source": [
    "The upcoming questions work the same way. The only thing that will change are the question numbers. For the next question, you'll call `q1.check()`, `q1.hint()`, `q1.solution()`, for question 2, you'll call `q2.check()`, and so on."
   ]
  },
  {
   "cell_type": "markdown",
   "id": "fff1109b",
   "metadata": {
    "papermill": {
     "duration": 0.008,
     "end_time": "2022-06-14T12:35:01.113548",
     "exception": false,
     "start_time": "2022-06-14T12:35:01.105548",
     "status": "completed"
    },
    "tags": []
   },
   "source": [
    "<hr/>\n",
    "\n",
    "# 1.\n",
    "\n",
    "Complete the code below. In case it's helpful, here is the table of available arithmetic operations:\n",
    "\n",
    "\n",
    "\n",
    "| Operator     | Name           | Description                                            |\n",
    "|--------------|----------------|--------------------------------------------------------|\n",
    "| ``a + b``    | Addition       | Sum of ``a`` and ``b``                                 |\n",
    "| ``a - b``    | Subtraction    | Difference of ``a`` and ``b``                          |\n",
    "| ``a * b``    | Multiplication | Product of ``a`` and ``b``                             |\n",
    "| ``a / b``    | True division  | Quotient of ``a`` and ``b``                            |\n",
    "| ``a // b``   | Floor division | Quotient of ``a`` and ``b``, removing fractional parts |\n",
    "| ``a % b``    | Modulus        | Integer remainder after division of ``a`` by ``b``     |\n",
    "| ``a ** b``   | Exponentiation | ``a`` raised to the power of ``b``                     |\n",
    "| ``-a``       | Negation       | The negative of ``a``                                  |\n",
    "\n",
    "<span style=\"display:none\"></span>\n"
   ]
  },
  {
   "cell_type": "code",
   "execution_count": 5,
   "id": "c0e7e98f",
   "metadata": {
    "execution": {
     "iopub.execute_input": "2022-06-14T12:35:01.132665Z",
     "iopub.status.busy": "2022-06-14T12:35:01.132207Z",
     "iopub.status.idle": "2022-06-14T12:35:01.141730Z",
     "shell.execute_reply": "2022-06-14T12:35:01.140871Z"
    },
    "papermill": {
     "duration": 0.021816,
     "end_time": "2022-06-14T12:35:01.143764",
     "exception": false,
     "start_time": "2022-06-14T12:35:01.121948",
     "status": "completed"
    },
    "tags": []
   },
   "outputs": [
    {
     "data": {
      "application/javascript": [
       "parent.postMessage({\"jupyterEvent\": \"custom.exercise_interaction\", \"data\": {\"outcomeType\": 1, \"valueTowardsCompletion\": 0.25, \"interactionType\": 1, \"questionType\": 1, \"questionId\": \"1_CircleArea\", \"learnToolsVersion\": \"0.3.4\", \"failureMessage\": \"\", \"exceptionClass\": \"\", \"trace\": \"\"}}, \"*\")"
      ],
      "text/plain": [
       "<IPython.core.display.Javascript object>"
      ]
     },
     "metadata": {},
     "output_type": "display_data"
    },
    {
     "data": {
      "text/markdown": [
       "<span style=\"color:#33cc33\">Correct</span>"
      ],
      "text/plain": [
       "Correct"
      ]
     },
     "metadata": {},
     "output_type": "display_data"
    }
   ],
   "source": [
    "pi = 3.14159 # approximate\n",
    "diameter = 3\n",
    "\n",
    "# Create a variable called 'radius' equal to half the diameter\n",
    "radius=diameter/2\n",
    "# Create a variable called 'area', using the formula for the area of a circle: pi times the radius squared\n",
    "area=pi*radius**2\n",
    "\n",
    "# Check your answer\n",
    "q1.check()"
   ]
  },
  {
   "cell_type": "code",
   "execution_count": 6,
   "id": "521fd1ae",
   "metadata": {
    "execution": {
     "iopub.execute_input": "2022-06-14T12:35:01.163626Z",
     "iopub.status.busy": "2022-06-14T12:35:01.162977Z",
     "iopub.status.idle": "2022-06-14T12:35:01.166767Z",
     "shell.execute_reply": "2022-06-14T12:35:01.166144Z"
    },
    "papermill": {
     "duration": 0.016151,
     "end_time": "2022-06-14T12:35:01.168764",
     "exception": false,
     "start_time": "2022-06-14T12:35:01.152613",
     "status": "completed"
    },
    "tags": []
   },
   "outputs": [],
   "source": [
    "# Uncomment and run the lines below if you need help.\n",
    "#q1.hint()\n",
    "#q1.solution()"
   ]
  },
  {
   "cell_type": "markdown",
   "id": "66f61312",
   "metadata": {
    "papermill": {
     "duration": 0.008501,
     "end_time": "2022-06-14T12:35:01.186475",
     "exception": false,
     "start_time": "2022-06-14T12:35:01.177974",
     "status": "completed"
    },
    "tags": []
   },
   "source": [
    "<hr/>\n",
    "\n",
    "# 2.\n",
    "\n",
    "Add code to the following cell to swap variables `a` and `b` (so that `a` refers to the object previously referred to by `b` and vice versa)."
   ]
  },
  {
   "cell_type": "code",
   "execution_count": 7,
   "id": "4c5dbc59",
   "metadata": {
    "execution": {
     "iopub.execute_input": "2022-06-14T12:35:01.206178Z",
     "iopub.status.busy": "2022-06-14T12:35:01.205556Z",
     "iopub.status.idle": "2022-06-14T12:35:01.215416Z",
     "shell.execute_reply": "2022-06-14T12:35:01.214289Z"
    },
    "papermill": {
     "duration": 0.022122,
     "end_time": "2022-06-14T12:35:01.217586",
     "exception": false,
     "start_time": "2022-06-14T12:35:01.195464",
     "status": "completed"
    },
    "tags": []
   },
   "outputs": [
    {
     "data": {
      "application/javascript": [
       "parent.postMessage({\"jupyterEvent\": \"custom.exercise_interaction\", \"data\": {\"outcomeType\": 1, \"valueTowardsCompletion\": 0.25, \"interactionType\": 1, \"questionType\": 2, \"questionId\": \"2_VariableSwap\", \"learnToolsVersion\": \"0.3.4\", \"failureMessage\": \"\", \"exceptionClass\": \"\", \"trace\": \"\"}}, \"*\")"
      ],
      "text/plain": [
       "<IPython.core.display.Javascript object>"
      ]
     },
     "metadata": {},
     "output_type": "display_data"
    },
    {
     "data": {
      "text/markdown": [
       "<span style=\"color:#33cc33\">Correct:</span> \n",
       "\n",
       "The most straightforward solution is to use a third variable to temporarily store one of the old values. e.g.:\n",
       "\n",
       "    tmp = a\n",
       "    a = b\n",
       "    b = tmp\n",
       "\n",
       "If you've read lots of Python code, you might have seen the following trick to swap two variables in one line:\n",
       "\n",
       "    a, b = b, a\n",
       "\n",
       "We'll demystify this bit of Python magic later when we talk about *tuples*."
      ],
      "text/plain": [
       "Correct: \n",
       "\n",
       "The most straightforward solution is to use a third variable to temporarily store one of the old values. e.g.:\n",
       "\n",
       "    tmp = a\n",
       "    a = b\n",
       "    b = tmp\n",
       "\n",
       "If you've read lots of Python code, you might have seen the following trick to swap two variables in one line:\n",
       "\n",
       "    a, b = b, a\n",
       "\n",
       "We'll demystify this bit of Python magic later when we talk about *tuples*."
      ]
     },
     "metadata": {},
     "output_type": "display_data"
    }
   ],
   "source": [
    "########### Setup code - don't touch this part ######################\n",
    "# If you're curious, these are examples of lists. We'll talk about \n",
    "# them in depth a few lessons from now. For now, just know that they're\n",
    "# yet another type of Python object, like int or float.\n",
    "a = [1, 2, 3]\n",
    "b = [3, 2, 1]\n",
    "q2.store_original_ids()\n",
    "######################################################################\n",
    "\n",
    "# Your code goes here. Swap the values to which a and b refer.\n",
    "# If you get stuck, you can always uncomment one or both of the lines in\n",
    "# the next cell for a hint, or to peek at the solution.\n",
    "c=b\n",
    "b=a\n",
    "a=c\n",
    "\n",
    "######################################################################\n",
    "\n",
    "# Check your answer\n",
    "q2.check()"
   ]
  },
  {
   "cell_type": "code",
   "execution_count": 8,
   "id": "ba5b609d",
   "metadata": {
    "execution": {
     "iopub.execute_input": "2022-06-14T12:35:01.238528Z",
     "iopub.status.busy": "2022-06-14T12:35:01.237973Z",
     "iopub.status.idle": "2022-06-14T12:35:01.241565Z",
     "shell.execute_reply": "2022-06-14T12:35:01.240897Z"
    },
    "papermill": {
     "duration": 0.016432,
     "end_time": "2022-06-14T12:35:01.243628",
     "exception": false,
     "start_time": "2022-06-14T12:35:01.227196",
     "status": "completed"
    },
    "tags": []
   },
   "outputs": [],
   "source": [
    "#q2.hint()"
   ]
  },
  {
   "cell_type": "code",
   "execution_count": 9,
   "id": "e6207066",
   "metadata": {
    "execution": {
     "iopub.execute_input": "2022-06-14T12:35:01.263981Z",
     "iopub.status.busy": "2022-06-14T12:35:01.263567Z",
     "iopub.status.idle": "2022-06-14T12:35:01.267385Z",
     "shell.execute_reply": "2022-06-14T12:35:01.266439Z"
    },
    "papermill": {
     "duration": 0.016367,
     "end_time": "2022-06-14T12:35:01.269418",
     "exception": false,
     "start_time": "2022-06-14T12:35:01.253051",
     "status": "completed"
    },
    "tags": []
   },
   "outputs": [],
   "source": [
    "#q2.solution()"
   ]
  },
  {
   "cell_type": "markdown",
   "id": "3d16dc88",
   "metadata": {
    "papermill": {
     "duration": 0.008784,
     "end_time": "2022-06-14T12:35:01.287721",
     "exception": false,
     "start_time": "2022-06-14T12:35:01.278937",
     "status": "completed"
    },
    "tags": []
   },
   "source": [
    "<hr/>\n",
    "\n",
    "# 3a.\n",
    "\n",
    "Add parentheses to the following expression so that it evaluates to 1."
   ]
  },
  {
   "cell_type": "code",
   "execution_count": 10,
   "id": "5025d7f7",
   "metadata": {
    "execution": {
     "iopub.execute_input": "2022-06-14T12:35:01.307903Z",
     "iopub.status.busy": "2022-06-14T12:35:01.307306Z",
     "iopub.status.idle": "2022-06-14T12:35:01.312639Z",
     "shell.execute_reply": "2022-06-14T12:35:01.311884Z"
    },
    "papermill": {
     "duration": 0.017794,
     "end_time": "2022-06-14T12:35:01.314594",
     "exception": false,
     "start_time": "2022-06-14T12:35:01.296800",
     "status": "completed"
    },
    "tags": []
   },
   "outputs": [
    {
     "data": {
      "text/plain": [
       "1"
      ]
     },
     "execution_count": 10,
     "metadata": {},
     "output_type": "execute_result"
    }
   ],
   "source": [
    "(5 - 3) // 2"
   ]
  },
  {
   "cell_type": "code",
   "execution_count": 11,
   "id": "f10d8466",
   "metadata": {
    "execution": {
     "iopub.execute_input": "2022-06-14T12:35:01.336069Z",
     "iopub.status.busy": "2022-06-14T12:35:01.335657Z",
     "iopub.status.idle": "2022-06-14T12:35:01.339406Z",
     "shell.execute_reply": "2022-06-14T12:35:01.338565Z"
    },
    "papermill": {
     "duration": 0.017167,
     "end_time": "2022-06-14T12:35:01.341359",
     "exception": false,
     "start_time": "2022-06-14T12:35:01.324192",
     "status": "completed"
    },
    "tags": []
   },
   "outputs": [],
   "source": [
    "#q3.a.hint()"
   ]
  },
  {
   "cell_type": "code",
   "execution_count": 12,
   "id": "d298ead6",
   "metadata": {
    "execution": {
     "iopub.execute_input": "2022-06-14T12:35:01.362325Z",
     "iopub.status.busy": "2022-06-14T12:35:01.361899Z",
     "iopub.status.idle": "2022-06-14T12:35:01.369649Z",
     "shell.execute_reply": "2022-06-14T12:35:01.368937Z"
    },
    "papermill": {
     "duration": 0.02033,
     "end_time": "2022-06-14T12:35:01.371381",
     "exception": false,
     "start_time": "2022-06-14T12:35:01.351051",
     "status": "completed"
    },
    "tags": []
   },
   "outputs": [
    {
     "data": {
      "application/javascript": [
       "parent.postMessage({\"jupyterEvent\": \"custom.exercise_interaction\", \"data\": {\"interactionType\": 3, \"questionType\": 4, \"questionId\": \"3.1_ArithmeticParensEasy\", \"learnToolsVersion\": \"0.3.4\", \"valueTowardsCompletion\": 0.0, \"failureMessage\": \"\", \"exceptionClass\": \"\", \"trace\": \"\", \"outcomeType\": 4}}, \"*\")"
      ],
      "text/plain": [
       "<IPython.core.display.Javascript object>"
      ]
     },
     "metadata": {},
     "output_type": "display_data"
    },
    {
     "data": {
      "text/markdown": [
       "<span style=\"color:#33cc99\">Solution:</span> \n",
       "```python\n",
       "(5 - 3) // 2\n",
       "```"
      ],
      "text/plain": [
       "Solution: \n",
       "```python\n",
       "(5 - 3) // 2\n",
       "```"
      ]
     },
     "metadata": {},
     "output_type": "display_data"
    }
   ],
   "source": [
    "# Check your answer (Run this code cell to receive credit!)\n",
    "q3.a.solution()"
   ]
  },
  {
   "cell_type": "markdown",
   "id": "b6b1cf6b",
   "metadata": {
    "papermill": {
     "duration": 0.009363,
     "end_time": "2022-06-14T12:35:01.390346",
     "exception": false,
     "start_time": "2022-06-14T12:35:01.380983",
     "status": "completed"
    },
    "tags": []
   },
   "source": [
    "# 3b.  <span title=\"A bit spicy\" style=\"color: darkgreen \">🌶️</span>\n",
    "\n",
    "<small>Questions, like this one, marked a spicy pepper are a bit harder.</small>\n",
    "\n",
    "Add parentheses to the following expression so that it evaluates to 0."
   ]
  },
  {
   "cell_type": "code",
   "execution_count": 13,
   "id": "c5275219",
   "metadata": {
    "execution": {
     "iopub.execute_input": "2022-06-14T12:35:01.411605Z",
     "iopub.status.busy": "2022-06-14T12:35:01.410880Z",
     "iopub.status.idle": "2022-06-14T12:35:01.416294Z",
     "shell.execute_reply": "2022-06-14T12:35:01.415544Z"
    },
    "papermill": {
     "duration": 0.018372,
     "end_time": "2022-06-14T12:35:01.418275",
     "exception": false,
     "start_time": "2022-06-14T12:35:01.399903",
     "status": "completed"
    },
    "tags": []
   },
   "outputs": [
    {
     "data": {
      "text/plain": [
       "0"
      ]
     },
     "execution_count": 13,
     "metadata": {},
     "output_type": "execute_result"
    }
   ],
   "source": [
    "8 - 3 * 2 - (1 + 1)"
   ]
  },
  {
   "cell_type": "code",
   "execution_count": 14,
   "id": "5bcd2440",
   "metadata": {
    "execution": {
     "iopub.execute_input": "2022-06-14T12:35:01.440829Z",
     "iopub.status.busy": "2022-06-14T12:35:01.440206Z",
     "iopub.status.idle": "2022-06-14T12:35:01.443801Z",
     "shell.execute_reply": "2022-06-14T12:35:01.443102Z"
    },
    "papermill": {
     "duration": 0.01703,
     "end_time": "2022-06-14T12:35:01.445776",
     "exception": false,
     "start_time": "2022-06-14T12:35:01.428746",
     "status": "completed"
    },
    "tags": []
   },
   "outputs": [],
   "source": [
    "#q3.b.hint()"
   ]
  },
  {
   "cell_type": "code",
   "execution_count": 15,
   "id": "694cd9b0",
   "metadata": {
    "execution": {
     "iopub.execute_input": "2022-06-14T12:35:01.467625Z",
     "iopub.status.busy": "2022-06-14T12:35:01.467059Z",
     "iopub.status.idle": "2022-06-14T12:35:01.473482Z",
     "shell.execute_reply": "2022-06-14T12:35:01.472730Z"
    },
    "papermill": {
     "duration": 0.019612,
     "end_time": "2022-06-14T12:35:01.475406",
     "exception": false,
     "start_time": "2022-06-14T12:35:01.455794",
     "status": "completed"
    },
    "tags": []
   },
   "outputs": [
    {
     "data": {
      "application/javascript": [
       "parent.postMessage({\"jupyterEvent\": \"custom.exercise_interaction\", \"data\": {\"interactionType\": 3, \"questionType\": 4, \"questionId\": \"3.2_ArithmeticParensHard\", \"learnToolsVersion\": \"0.3.4\", \"valueTowardsCompletion\": 0.0, \"failureMessage\": \"\", \"exceptionClass\": \"\", \"trace\": \"\", \"outcomeType\": 4}}, \"*\")"
      ],
      "text/plain": [
       "<IPython.core.display.Javascript object>"
      ]
     },
     "metadata": {},
     "output_type": "display_data"
    },
    {
     "data": {
      "text/markdown": [
       "<span style=\"color:#33cc99\">Solution:</span> `(8 - 3) * (2 - (1 + 1))` is one solution. There may be others."
      ],
      "text/plain": [
       "Solution: `(8 - 3) * (2 - (1 + 1))` is one solution. There may be others."
      ]
     },
     "metadata": {},
     "output_type": "display_data"
    }
   ],
   "source": [
    "# Check your answer (Run this code cell to receive credit!)\n",
    "q3.b.solution()"
   ]
  },
  {
   "cell_type": "markdown",
   "id": "7aafc84c",
   "metadata": {
    "papermill": {
     "duration": 0.009813,
     "end_time": "2022-06-14T12:35:01.495374",
     "exception": false,
     "start_time": "2022-06-14T12:35:01.485561",
     "status": "completed"
    },
    "tags": []
   },
   "source": [
    "<hr/>\n",
    "\n",
    "# 4. \n",
    "Alice, Bob and Carol have agreed to pool their Halloween candy and split it evenly among themselves.\n",
    "For the sake of their friendship, any candies left over will be smashed. For example, if they collectively\n",
    "bring home 91 candies, they'll take 30 each and smash 1.\n",
    "\n",
    "Write an arithmetic expression below to calculate how many candies they must smash for a given haul."
   ]
  },
  {
   "cell_type": "code",
   "execution_count": 16,
   "id": "a3738def",
   "metadata": {
    "execution": {
     "iopub.execute_input": "2022-06-14T12:35:01.518105Z",
     "iopub.status.busy": "2022-06-14T12:35:01.517540Z",
     "iopub.status.idle": "2022-06-14T12:35:01.524801Z",
     "shell.execute_reply": "2022-06-14T12:35:01.524207Z"
    },
    "papermill": {
     "duration": 0.021057,
     "end_time": "2022-06-14T12:35:01.526741",
     "exception": false,
     "start_time": "2022-06-14T12:35:01.505684",
     "status": "completed"
    },
    "tags": []
   },
   "outputs": [
    {
     "data": {
      "application/javascript": [
       "parent.postMessage({\"jupyterEvent\": \"custom.exercise_interaction\", \"data\": {\"outcomeType\": 1, \"valueTowardsCompletion\": 0.25, \"interactionType\": 1, \"questionType\": 1, \"questionId\": \"4_CandySplitting\", \"learnToolsVersion\": \"0.3.4\", \"failureMessage\": \"\", \"exceptionClass\": \"\", \"trace\": \"\"}}, \"*\")"
      ],
      "text/plain": [
       "<IPython.core.display.Javascript object>"
      ]
     },
     "metadata": {},
     "output_type": "display_data"
    },
    {
     "data": {
      "text/markdown": [
       "<span style=\"color:#33cc33\">Correct</span>"
      ],
      "text/plain": [
       "Correct"
      ]
     },
     "metadata": {},
     "output_type": "display_data"
    }
   ],
   "source": [
    "# Variables representing the number of candies collected by alice, bob, and carol\n",
    "alice_candies = 121\n",
    "bob_candies = 77\n",
    "carol_candies = 109\n",
    "\n",
    "# Your code goes here! Replace the right-hand side of this assignment with an expression\n",
    "# involving alice_candies, bob_candies, and carol_candies\n",
    "to_smash = (alice_candies+bob_candies+carol_candies)-(((alice_candies+bob_candies+carol_candies)//3)*3)\n",
    "# Check your answer\n",
    "q4.check()"
   ]
  },
  {
   "cell_type": "code",
   "execution_count": 17,
   "id": "b147d518",
   "metadata": {
    "execution": {
     "iopub.execute_input": "2022-06-14T12:35:01.549608Z",
     "iopub.status.busy": "2022-06-14T12:35:01.549006Z",
     "iopub.status.idle": "2022-06-14T12:35:01.552697Z",
     "shell.execute_reply": "2022-06-14T12:35:01.551665Z"
    },
    "papermill": {
     "duration": 0.017791,
     "end_time": "2022-06-14T12:35:01.555190",
     "exception": false,
     "start_time": "2022-06-14T12:35:01.537399",
     "status": "completed"
    },
    "tags": []
   },
   "outputs": [],
   "source": [
    "#q4.hint()\n",
    "#q4.solution()"
   ]
  },
  {
   "cell_type": "markdown",
   "id": "f3dffd0d",
   "metadata": {
    "papermill": {
     "duration": 0.009813,
     "end_time": "2022-06-14T12:35:01.575371",
     "exception": false,
     "start_time": "2022-06-14T12:35:01.565558",
     "status": "completed"
    },
    "tags": []
   },
   "source": [
    "# Keep Going\n",
    "\n",
    "Next up, you'll **[learn to write new functions and understand functions others write](https://www.kaggle.com/colinmorris/functions-and-getting-help)**. This will make you at least 10 times more productive as a Python programmer. "
   ]
  },
  {
   "cell_type": "markdown",
   "id": "d331cdb3",
   "metadata": {
    "papermill": {
     "duration": 0.009711,
     "end_time": "2022-06-14T12:35:01.595014",
     "exception": false,
     "start_time": "2022-06-14T12:35:01.585303",
     "status": "completed"
    },
    "tags": []
   },
   "source": [
    "---\n",
    "\n",
    "\n",
    "\n",
    "\n",
    "*Have questions or comments? Visit the [course discussion forum](https://www.kaggle.com/learn/python/discussion) to chat with other learners.*"
   ]
  }
 ],
 "metadata": {
  "kernelspec": {
   "display_name": "Python 3",
   "language": "python",
   "name": "python3"
  },
  "language_info": {
   "codemirror_mode": {
    "name": "ipython",
    "version": 3
   },
   "file_extension": ".py",
   "mimetype": "text/x-python",
   "name": "python",
   "nbconvert_exporter": "python",
   "pygments_lexer": "ipython3",
   "version": "3.7.12"
  },
  "papermill": {
   "default_parameters": {},
   "duration": 12.513846,
   "end_time": "2022-06-14T12:35:02.427721",
   "environment_variables": {},
   "exception": null,
   "input_path": "__notebook__.ipynb",
   "output_path": "__notebook__.ipynb",
   "parameters": {},
   "start_time": "2022-06-14T12:34:49.913875",
   "version": "2.3.4"
  }
 },
 "nbformat": 4,
 "nbformat_minor": 5
}
